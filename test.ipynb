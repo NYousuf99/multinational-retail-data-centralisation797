{
 "cells": [
  {
   "cell_type": "code",
   "execution_count": 34,
   "metadata": {},
   "outputs": [],
   "source": [
    "from data_extraction import DataExtractor\n",
    "from database_utils import DatabaseConnector\n",
    "db_connector = DatabaseConnector()\n",
    "tables = db_connector.list_db_tables()\n",
    "import pandas as pd "
   ]
  },
  {
   "cell_type": "code",
   "execution_count": 42,
   "metadata": {},
   "outputs": [],
   "source": [
    "df = pd.DataFrame(tables)\n",
    "ls = []\n",
    "for i in df[0]:\n",
    "    if 'user' in i:\n",
    "        ls.append(i)\n",
    "        \n",
    "    "
   ]
  },
  {
   "cell_type": "code",
   "execution_count": 45,
   "metadata": {},
   "outputs": [
    {
     "data": {
      "text/plain": [
       "['legacy_users',\n",
       " 'pg_user_mappings',\n",
       " 'pg_user',\n",
       " 'pg_statio_user_tables',\n",
       " 'pg_stat_user_tables',\n",
       " 'pg_stat_xact_user_tables',\n",
       " 'pg_stat_user_indexes',\n",
       " 'pg_statio_user_indexes',\n",
       " 'pg_statio_user_sequences',\n",
       " 'pg_stat_user_functions',\n",
       " 'pg_stat_xact_user_functions',\n",
       " 'user_defined_types',\n",
       " '_pg_user_mappings',\n",
       " 'user_mappings',\n",
       " 'user_mapping_options']"
      ]
     },
     "execution_count": 45,
     "metadata": {},
     "output_type": "execute_result"
    }
   ],
   "source": [
    "ls"
   ]
  },
  {
   "cell_type": "code",
   "execution_count": 37,
   "metadata": {},
   "outputs": [],
   "source": [
    "bot = DataExtractor()\n"
   ]
  },
  {
   "cell_type": "code",
   "execution_count": 36,
   "metadata": {},
   "outputs": [
    {
     "name": "stdout",
     "output_type": "stream",
     "text": [
      "RangeIndex(start=0, stop=1, step=1)\n"
     ]
    }
   ],
   "source": [
    "bot.read_rds_table(tables)"
   ]
  }
 ],
 "metadata": {
  "kernelspec": {
   "display_name": "base",
   "language": "python",
   "name": "python3"
  },
  "language_info": {
   "codemirror_mode": {
    "name": "ipython",
    "version": 3
   },
   "file_extension": ".py",
   "mimetype": "text/x-python",
   "name": "python",
   "nbconvert_exporter": "python",
   "pygments_lexer": "ipython3",
   "version": "3.11.5"
  }
 },
 "nbformat": 4,
 "nbformat_minor": 2
}
